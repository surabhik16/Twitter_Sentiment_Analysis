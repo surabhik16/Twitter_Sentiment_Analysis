{
 "cells": [
  {
   "cell_type": "markdown",
   "metadata": {},
   "source": [
    "## Twitter Sentiment Analysis"
   ]
  },
  {
   "cell_type": "markdown",
   "metadata": {},
   "source": [
    "Semtiment analysis is the process of understanding the opinion of an author about a subject."
   ]
  },
  {
   "cell_type": "markdown",
   "metadata": {},
   "source": [
    "An opinion, also called polarity can be of three types: Positive, Neutral and Negative.Most brands use sentiment analysis to understand how their customers interact and feel about their brand.Sentiment Analysis is also used in Brand monitoring, Cutomer service, Product Analysis and Market research."
   ]
  },
  {
   "cell_type": "markdown",
   "metadata": {},
   "source": [
    "Twitter is a gold mine of data. Twitter is an amazing micro blogging tool and an extraordinary communication medium. In addition, it can also be an amazing open mine for text and social web analyses."
   ]
  },
  {
   "cell_type": "markdown",
   "metadata": {},
   "source": [
    "In this project, we will be working on twitter dataset that has 1.6 million tweets and do the sentiment analysis of the tweets."
   ]
  },
  {
   "cell_type": "markdown",
   "metadata": {},
   "source": [
    "## Setup"
   ]
  },
  {
   "cell_type": "code",
   "execution_count": 2,
   "metadata": {},
   "outputs": [],
   "source": [
    "import pandas as pd #fordata manipulation, analysis and cleaning\n",
    "import numpy as np #computing and data manipulation\n",
    "import seaborn as sns # for data visualization\n",
    "import matplotlib.pyplot as plt # for data visualization\n",
    "import re\n",
    "from collections import Counter\n",
    "from bs4 import BeautifulSoup # for parsing HTML data\n",
    "from nltk.tokenize import WordPunctTokenizer, word_tokenize #to extract the tokens from string of words or sentences \n",
    "import collections\n",
    "from sklearn.naive_bayes import MultinomialNB\n",
    "from PIL import Image\n",
    "from wordcloud import WordCloud\n",
    "from sklearn import metrics\n",
    "from sklearn.linear_model import LogisticRegression \n",
    "from sklearn.metrics import confusion_matrix \n",
    "from sklearn.svm import LinearSVC \n",
    "from sklearn.tree import DecisionTreeClassifier\n",
    "from sklearn.model_selection import train_test_split , cross_val_score\n",
    "from sklearn.feature_extraction.text import CountVectorizer , TfidfVectorizer   \n",
    "import warnings\n",
    "warnings.filterwarnings(\"ignore\")"
   ]
  },
  {
   "cell_type": "code",
   "execution_count": null,
   "metadata": {},
   "outputs": [],
   "source": [
    "## Importing the Dataset"
   ]
  },
  {
   "cell_type": "code",
   "execution_count": null,
   "metadata": {},
   "outputs": [],
   "source": []
  }
 ],
 "metadata": {
  "kernelspec": {
   "display_name": "Python 3",
   "language": "python",
   "name": "python3"
  },
  "language_info": {
   "codemirror_mode": {
    "name": "ipython",
    "version": 3
   },
   "file_extension": ".py",
   "mimetype": "text/x-python",
   "name": "python",
   "nbconvert_exporter": "python",
   "pygments_lexer": "ipython3",
   "version": "3.7.3"
  }
 },
 "nbformat": 4,
 "nbformat_minor": 2
}
